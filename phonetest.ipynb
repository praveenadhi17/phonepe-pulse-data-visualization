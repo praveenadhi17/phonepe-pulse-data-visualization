{
 "cells": [
  {
   "cell_type": "code",
   "execution_count": null,
   "metadata": {},
   "outputs": [],
   "source": [
    "pip install plotly"
   ]
  },
  {
   "cell_type": "code",
   "execution_count": null,
   "metadata": {},
   "outputs": [],
   "source": [
    "pip install plotly.express"
   ]
  },
  {
   "cell_type": "code",
   "execution_count": null,
   "metadata": {},
   "outputs": [],
   "source": [
    "pip install nbformat"
   ]
  },
  {
   "cell_type": "code",
   "execution_count": 243,
   "metadata": {},
   "outputs": [],
   "source": [
    "import mysql.connector\n",
    "import pandas as pd \n",
    "import plotly.express as px\n",
    "import nbformat\n",
    "import requests\n",
    "import json\n",
    "import streamlit as st"
   ]
  },
  {
   "cell_type": "code",
   "execution_count": 244,
   "metadata": {},
   "outputs": [],
   "source": [
    "#DATAFRAME CREATION\n",
    "mydb = mysql.connector.connect(\n",
    "                host=\"localhost\",\n",
    "                user=\"root\",\n",
    "                password=\"\",\n",
    "                database='phonepe',\n",
    "    )\n",
    "mycursor = mydb.cursor(buffered=True)\n",
    "\n",
    "\n",
    "#aggre_transaction_df\n",
    "mycursor.execute('SELECT * FROM aggregated_transaction')\n",
    "mydb.commit()\n",
    "table1=mycursor.fetchall()\n",
    "\n",
    "Aggre_transaction=pd.DataFrame(table1, columns=('States','Years','Quarter','Transaction_type','Transaction_count','Transaction_amount'))\n",
    "\n",
    "#aggre_user_df\n",
    "mycursor.execute('SELECT * FROM aggregated_user')\n",
    "mydb.commit()\n",
    "table2=mycursor.fetchall()\n",
    "\n",
    "Aggre_user=pd.DataFrame(table2,columns=('States','Years','Quarter','Brands','Transaction_count','Percentage'))\n",
    "\n",
    "#map_transaction_df\n",
    "mycursor.execute('SELECT * FROM map_transaction')\n",
    "mydb.commit()\n",
    "table3=mycursor.fetchall()\n",
    "\n",
    "map_transaction=pd.DataFrame(table3,columns=('States','Years','Quarter','Districts','Transaction_count','Transaction_amount'))\n",
    "\n",
    "#map_user_df\n",
    "mycursor.execute('SELECT * FROM map_user')\n",
    "mydb.commit()\n",
    "table4=mycursor.fetchall()\n",
    "\n",
    "map_user=pd.DataFrame(table4,columns=('States','Years','Quarter','Districts','RegisteredUsers','AppOpens'))\n",
    "\n",
    "#top_transaction_df\n",
    "mycursor.execute('SELECT * FROM top_transaction')\n",
    "mydb.commit()\n",
    "table5=mycursor.fetchall()\n",
    "map_user=pd.DataFrame(table5,columns=('States','Years','Quarter','Pincodes','Transaction_count','Transaction_amount'))\n",
    "\n",
    "#map_user_df\n",
    "mycursor.execute('SELECT * FROM top_user')\n",
    "mydb.commit()\n",
    "table6=mycursor.fetchall()\n",
    "top_user=pd.DataFrame(table6,columns=('States','Years','Quarter','Pincodes','RegisteredUsers'))"
   ]
  },
  {
   "cell_type": "code",
   "execution_count": 254,
   "metadata": {},
   "outputs": [],
   "source": [
    "def Transaction_amount_count_Y(df, year):\n",
    "\n",
    "    tacy =df[df['Years'] == year]\n",
    "    tacy.reset_index(drop=True,inplace=True)\n",
    "\n",
    "    tacyg=tacy.groupby('States')[['Transaction_count','Transaction_amount']].sum()\n",
    "    tacyg.reset_index(inplace=True)\n",
    "\n",
    "    fig_amount=px.bar(tacyg, x='States', y='Transaction_amount',title=f'{year} TRANSACTION AMOUNT',\n",
    "                    color_discrete_sequence=px.colors.sequential.Bluered)\n",
    "    fig_amount.show()\n",
    "\n",
    "    fig_count=px.bar(tacyg, x='States', y='Transaction_count',title=f'{year} TRANSACTION COUNT',\n",
    "                    color_discrete_sequence=px.colors.sequential.Bluered_r)\n",
    "    fig_count.show()\n",
    "    \n",
    "    url= \"https://gist.githubusercontent.com/jbrobst/56c13bbbf9d97d187fea01ca62ea5112/raw/e388c4cae20aa53cb5090210a42ebb9b765c0a36/india_states.geojson\"\n",
    "    response= requests.get(url)\n",
    "    data1=json.loads(response.content)\n",
    "    states_name=[]\n",
    "    for feature in data1['features']:\n",
    "        states_name.append(feature['properties']['ST_NM'])\n",
    "        \n",
    "    states_name.sort()\n",
    "\n",
    "    fig_india_1=px.choropleth(tacyg, geojson=data1, locations= 'States', featureidkey= 'properties.ST_NM',\n",
    "                              color='Transaction_amount', color_continuous_scale= 'rainbow',\n",
    "                              range_color=(tacyg['Transaction_amount'].min(),tacyg['Transaction_amount'].max()),\n",
    "                              hover_name='States', title=f'{year} TRANSACTION AMOUNT', fitbounds= 'locations',\n",
    "                              height= 600, width= 600)\n",
    "    fig_india_1.update_geos(visible=False)\n",
    "    fig_india_1.show()\n",
    "\n",
    "    fig_india_2=px.choropleth(tacyg, geojson=data1, locations= 'States', featureidkey= 'properties.ST_NM',\n",
    "                              color='Transaction_count', color_continuous_scale= 'rainbow',\n",
    "                              range_color=(tacyg['Transaction_count'].min(),tacyg['Transaction_count'].max()),\n",
    "                              hover_name='States', title=f'{year} TRANSACTION COUNT', fitbounds= 'locations',\n",
    "                              height= 600, width= 600)\n",
    "    fig_india_2.update_geos(visible=False)\n",
    "    fig_india_2.show()\n",
    "    \n",
    "    \n"
   ]
  },
  {
   "cell_type": "code",
   "execution_count": 255,
   "metadata": {},
   "outputs": [
    {
     "ename": "NameError",
     "evalue": "name 'tacy' is not defined",
     "output_type": "error",
     "traceback": [
      "\u001b[1;31m---------------------------------------------------------------------------\u001b[0m",
      "\u001b[1;31mNameError\u001b[0m                                 Traceback (most recent call last)",
      "Cell \u001b[1;32mIn[255], line 1\u001b[0m\n\u001b[1;32m----> 1\u001b[0m \u001b[43mtacy\u001b[49m\n",
      "\u001b[1;31mNameError\u001b[0m: name 'tacy' is not defined"
     ]
    }
   ],
   "source": [
    "tacy"
   ]
  },
  {
   "cell_type": "code",
   "execution_count": 246,
   "metadata": {},
   "outputs": [],
   "source": [
    "def Transaction_amount_count_Y_Q(df, quarter):\n",
    "    \n",
    "    tacy =df[df['Quarter'] == quarter]\n",
    "    tacy.reset_index(drop=True,inplace=True)\n",
    "\n",
    "    tacyg=tacy.groupby('States')[['Transaction_count','Transaction_amount']].sum()\n",
    "    tacyg.reset_index(inplace=True)\n",
    "    \n",
    "    # col1,col2=st.columns(2)\n",
    "    # with col1:\n",
    "        \n",
    "\n",
    "    fig_amount=px.bar(tacyg, x='States', y='Transaction_amount',title=f'{tacy['Years'].min()} YEAR {quarter} QUARTER TRANSACTION AMOUNT',\n",
    "                        color_discrete_sequence=px.colors.sequential.Bluered)\n",
    "    fig_amount.show()\n",
    "    # with col2:\n",
    "            \n",
    "        # col1,col2=st.columns(2)\n",
    "    # with col1:\n",
    "                \n",
    "    url= \"https://gist.githubusercontent.com/jbrobst/56c13bbbf9d97d187fea01ca62ea5112/raw/e388c4cae20aa53cb5090210a42ebb9b765c0a36/india_states.geojson\"\n",
    "    response= requests.get(url)\n",
    "    data1=json.loads(response.content)\n",
    "    states_name=[]\n",
    "    for feature in data1['features']:\n",
    "        states_name.append(feature['properties']['ST_NM'])\n",
    "            \n",
    "    states_name.sort()\n",
    "\n",
    "    fig_india_1=px.choropleth(tacyg, geojson=data1, locations= 'States', featureidkey= 'properties.ST_NM',\n",
    "                                color='Transaction_amount', color_continuous_scale= 'rainbow',\n",
    "                                range_color=(tacyg['Transaction_amount'].min(),tacyg['Transaction_amount'].max()),\n",
    "                                hover_name='States', title=f'{tacy['Years'].min()} YEAR {quarter} QUARTER TRANSACTION AMOUNT', fitbounds= 'locations',\n",
    "                                height= 600, width= 600)\n",
    "    fig_india_1.update_geos(visible=False)\n",
    "    fig_india_1.show()\n",
    "\n",
    "    # with col2:\n",
    "    fig_india_2=px.choropleth(tacyg, geojson=data1, locations= 'States', featureidkey= 'properties.ST_NM',\n",
    "                                color='Transaction_count', color_continuous_scale= 'rainbow',\n",
    "                                range_color=(tacyg['Transaction_count'].min(),tacyg['Transaction_count'].max()),\n",
    "                                hover_name='States', title=f'{tacy['Years'].min()} YEAR {quarter} QUARTER TRANSACTION COUNT', fitbounds= 'locations',\n",
    "                                height= 600, width= 600)\n",
    "    fig_india_2.update_geos(visible=False)\n",
    "    fig_india_2.show()\n",
    "\n"
   ]
  },
  {
   "cell_type": "code",
   "execution_count": 247,
   "metadata": {},
   "outputs": [],
   "source": [
    "def Aggre_Tran_Transaction_type(df, state):\n",
    "\n",
    "    tacy =df[df['States'] == state]\n",
    "    tacy.reset_index(drop=True,inplace=True)\n",
    "\n",
    "    tacyg=tacy.groupby('Transaction_type')[['Transaction_count','Transaction_amount']].sum()\n",
    "    tacyg.reset_index(inplace=True)\n",
    "\n",
    "\n",
    "    fig_pie_1=px.pie(data_frame=tacyg, names='Transaction_type', values='Transaction_amount',\n",
    "                    width=600,title=f'{state.upper()} TRANSACTION AMOUNT',hole=0.5)\n",
    "    fig_pie_1.show()\n",
    "\n",
    "    fig_pie_2=px.pie(data_frame=tacyg, names='Transaction_type', values='Transaction_count',\n",
    "                    width=600,title=f'{state.upper()} TRANSACTION COUNT',hole=0.5)\n",
    "    fig_pie_2.show()"
   ]
  },
  {
   "cell_type": "code",
   "execution_count": 248,
   "metadata": {},
   "outputs": [],
   "source": [
    "#AGGRE_USER_ANALYSIS_1\n",
    "def Aggre_user_plot_1(df, year):\n",
    "    aguy= df[df['Years']== year]\n",
    "    aguy.reset_index(drop= True, inplace= True)\n",
    "\n",
    "    aguyg=pd.DataFrame(aguy.groupby('Brands')['Transaction_count'].sum())\n",
    "    aguyg.reset_index(inplace= True)\n",
    "\n",
    "    fig_bar_1=px.bar(aguyg, x='Brands', y='Transaction_count', title= f'{year} BRANDS AND TRANSACTION COUNT',\n",
    "                    width=900, color_discrete_sequence=px.colors.sequential.Bluered_r, hover_name='Brands')\n",
    "    fig_bar_1.show()\n",
    "    \n",
    "    return aguy"
   ]
  },
  {
   "cell_type": "code",
   "execution_count": 249,
   "metadata": {},
   "outputs": [],
   "source": [
    "#AGGRE_USER_ANALYSIS_2\n",
    "def Aggre_user_plot_2(df, quarter):\n",
    "    aguyq= df[df['Quarter']== quarter]\n",
    "    aguyq.reset_index(drop= True, inplace= True)\n",
    "    \n",
    "    aguyqg=pd.DataFrame(aguyq.groupby('Brands')['Transaction_count'].sum())\n",
    "    aguyqg.reset_index(inplace= True)\n",
    "\n",
    "\n",
    "    fig_bar_1=px.bar(aguyg, x='Brands', y='Transaction_count', title= f'{quarter} QUARTER, BRANDS AND TRANSACTION COUNT',\n",
    "                        width=900, color_discrete_sequence=px.colors.sequential.Bluered_r, hover_name='Brands')\n",
    "    fig_bar_1.show()\n",
    "    return aguyq"
   ]
  },
  {
   "cell_type": "code",
   "execution_count": 250,
   "metadata": {},
   "outputs": [],
   "source": [
    "#AGGRE_USER_ANALYSIS_3\n",
    "def Aggre_user_plot_3(df, state):\n",
    "    auyqs=df[df['States'] == state]\n",
    "    auyqs.reset_index(drop= True, inplace= True)\n",
    "    \n",
    "    fig_line_1=px.line(auyqs, x= 'Brands', y='Transaction_count', hover_name= 'Percentage',\n",
    "                    title=f'{state.upper()} BRANDS, TRANSACTION COUNT, PERCENTAGE', width= 1000, markers=True)\n",
    "    fig_line_1.show()"
   ]
  },
  {
   "cell_type": "markdown",
   "metadata": {},
   "source": [
    "### Aggre_Transaction"
   ]
  },
  {
   "cell_type": "code",
   "execution_count": null,
   "metadata": {},
   "outputs": [],
   "source": [
    "Aggre_tran_tac_Y=Transaction_amount_count_Y(Aggre_transaction, 2021)"
   ]
  },
  {
   "cell_type": "code",
   "execution_count": null,
   "metadata": {},
   "outputs": [],
   "source": [
    "Aggre_tran_tac_Y_Q=Transaction_amount_count_Y_Q(Aggre_tran_tac_Y, 3)"
   ]
  },
  {
   "cell_type": "code",
   "execution_count": 182,
   "metadata": {},
   "outputs": [],
   "source": [
    "Aggre_tran_tac_Y=Transaction_amount_count_Y(Aggre_transaction, 2021)"
   ]
  },
  {
   "cell_type": "code",
   "execution_count": null,
   "metadata": {},
   "outputs": [],
   "source": [
    "Aggre_Tran_Transaction_type(Aggre_tran_tac_Y, 'Tamil Nadu')"
   ]
  },
  {
   "cell_type": "code",
   "execution_count": null,
   "metadata": {},
   "outputs": [],
   "source": [
    "Aggre_tran_tac_Y_Q=Transaction_amount_count_Y_Q(Aggre_tran_tac_Y, 3)"
   ]
  },
  {
   "cell_type": "code",
   "execution_count": null,
   "metadata": {},
   "outputs": [
    {
     "data": {
      "text/plain": [
       "array(['Andaman & Nicobar', 'Andhra Pradesh', 'Arunachal Pradesh',\n",
       "       'Assam', 'Bihar', 'Chandigarh', 'Chhattisgarh',\n",
       "       'Dadra and Nagar Haveli and Daman and Diu', 'Delhi', 'Goa',\n",
       "       'Gujarat', 'Haryana', 'Himachal Pradesh', 'Jammu & Kashmir',\n",
       "       'Jharkhand', 'Karnataka', 'Kerala', 'Ladakh', 'Lakshadweep',\n",
       "       'Madhya Pradesh', 'Maharashtra', 'Manipur', 'Meghalaya', 'Mizoram',\n",
       "       'Nagaland', 'Odisha', 'Puducherry', 'Punjab', 'Rajasthan',\n",
       "       'Sikkim', 'Tamil Nadu', 'Telangana', 'Tripura', 'Uttar Pradesh',\n",
       "       'Uttarakhand', 'West Bengal'], dtype=object)"
      ]
     },
     "execution_count": 85,
     "metadata": {},
     "output_type": "execute_result"
    }
   ],
   "source": [
    "Aggre_tran_tac_Y[\"States\"].unique()"
   ]
  },
  {
   "cell_type": "code",
   "execution_count": 209,
   "metadata": {},
   "outputs": [],
   "source": [
    "##AGGREGATED USER"
   ]
  },
  {
   "cell_type": "code",
   "execution_count": null,
   "metadata": {},
   "outputs": [],
   "source": [
    "Aggre_user_Y= Aggre_user_plot_1(Aggre_user, 2020)"
   ]
  },
  {
   "cell_type": "code",
   "execution_count": null,
   "metadata": {},
   "outputs": [],
   "source": [
    "Aggre_user_Y_Q=Aggre_user_plot_2(Aggre_user_Y, 3)"
   ]
  },
  {
   "cell_type": "code",
   "execution_count": null,
   "metadata": {},
   "outputs": [],
   "source": [
    "Aggre_user_plot_3(Aggre_user_Y_Q,'Tamil Nadu')"
   ]
  },
  {
   "cell_type": "code",
   "execution_count": null,
   "metadata": {},
   "outputs": [],
   "source": [
    "Transaction_amount_count_Y_Q(tacy, 3)"
   ]
  },
  {
   "cell_type": "markdown",
   "metadata": {},
   "source": [
    "###map_transaction"
   ]
  },
  {
   "cell_type": "code",
   "execution_count": null,
   "metadata": {},
   "outputs": [],
   "source": [
    "map_tran_tac_Y= Transaction_amount_count_Y(map_transaction, 2018)"
   ]
  },
  {
   "cell_type": "code",
   "execution_count": 253,
   "metadata": {},
   "outputs": [
    {
     "ename": "NameError",
     "evalue": "name 'tacy' is not defined",
     "output_type": "error",
     "traceback": [
      "\u001b[1;31m---------------------------------------------------------------------------\u001b[0m",
      "\u001b[1;31mNameError\u001b[0m                                 Traceback (most recent call last)",
      "Cell \u001b[1;32mIn[253], line 1\u001b[0m\n\u001b[1;32m----> 1\u001b[0m \u001b[43mtacy\u001b[49m\n",
      "\u001b[1;31mNameError\u001b[0m: name 'tacy' is not defined"
     ]
    }
   ],
   "source": [
    "tacy"
   ]
  },
  {
   "cell_type": "code",
   "execution_count": 238,
   "metadata": {},
   "outputs": [
    {
     "ename": "TypeError",
     "evalue": "'NoneType' object is not subscriptable",
     "output_type": "error",
     "traceback": [
      "\u001b[1;31m---------------------------------------------------------------------------\u001b[0m",
      "\u001b[1;31mTypeError\u001b[0m                                 Traceback (most recent call last)",
      "Cell \u001b[1;32mIn[238], line 1\u001b[0m\n\u001b[1;32m----> 1\u001b[0m \u001b[43mAggre_Tran_Transaction_type\u001b[49m\u001b[43m(\u001b[49m\u001b[43mAggre_tran_tac_Y\u001b[49m\u001b[43m,\u001b[49m\u001b[43m \u001b[49m\u001b[38;5;124;43m'\u001b[39;49m\u001b[38;5;124;43mBihar\u001b[39;49m\u001b[38;5;124;43m'\u001b[39;49m\u001b[43m)\u001b[49m\n",
      "Cell \u001b[1;32mIn[220], line 3\u001b[0m, in \u001b[0;36mAggre_Tran_Transaction_type\u001b[1;34m(df, state)\u001b[0m\n\u001b[0;32m      1\u001b[0m \u001b[38;5;28;01mdef\u001b[39;00m \u001b[38;5;21mAggre_Tran_Transaction_type\u001b[39m(df, state):\n\u001b[1;32m----> 3\u001b[0m     tacy \u001b[38;5;241m=\u001b[39mdf[\u001b[43mdf\u001b[49m\u001b[43m[\u001b[49m\u001b[38;5;124;43m'\u001b[39;49m\u001b[38;5;124;43mStates\u001b[39;49m\u001b[38;5;124;43m'\u001b[39;49m\u001b[43m]\u001b[49m \u001b[38;5;241m==\u001b[39m state]\n\u001b[0;32m      4\u001b[0m     tacy\u001b[38;5;241m.\u001b[39mreset_index(drop\u001b[38;5;241m=\u001b[39m\u001b[38;5;28;01mTrue\u001b[39;00m,inplace\u001b[38;5;241m=\u001b[39m\u001b[38;5;28;01mTrue\u001b[39;00m)\n\u001b[0;32m      6\u001b[0m     tacyg\u001b[38;5;241m=\u001b[39mtacy\u001b[38;5;241m.\u001b[39mgroupby(\u001b[38;5;124m'\u001b[39m\u001b[38;5;124mTransaction_type\u001b[39m\u001b[38;5;124m'\u001b[39m)[[\u001b[38;5;124m'\u001b[39m\u001b[38;5;124mTransaction_count\u001b[39m\u001b[38;5;124m'\u001b[39m,\u001b[38;5;124m'\u001b[39m\u001b[38;5;124mTransaction_amount\u001b[39m\u001b[38;5;124m'\u001b[39m]]\u001b[38;5;241m.\u001b[39msum()\n",
      "\u001b[1;31mTypeError\u001b[0m: 'NoneType' object is not subscriptable"
     ]
    }
   ],
   "source": [
    "Aggre_Tran_Transaction_type(Aggre_tran_tac_Y, 'Bihar')\n",
    "    "
   ]
  },
  {
   "cell_type": "code",
   "execution_count": 236,
   "metadata": {},
   "outputs": [],
   "source": [
    "map_tran_tac_Y"
   ]
  },
  {
   "cell_type": "code",
   "execution_count": 173,
   "metadata": {},
   "outputs": [],
   "source": [
    "def map_tran_Districts(df, state):\n",
    "    \n",
    "    tacy= df[df['States'] == state]\n",
    "    tacy.reset_index(drop= True, inplace= True)\n",
    "\n",
    "    tacyg=tacy.groupby('Districts')[['Transaction_count','Transaction_amount']].sum()\n",
    "    tacyg.reset_index(inplace=True)\n",
    "\n",
    "\n",
    "    fig_pie_1=px.pie(data_frame=tacyg, names='Districts', values='Transaction_amount',\n",
    "                    width=600,title=f'{state.upper()} TRANSACTION AMOUNT',hole=0.5)\n",
    "    fig_pie_1.show()\n",
    "\n",
    "    fig_pie_2=px.pie(data_frame=tacyg, names='Districts', values='Transaction_count',\n",
    "                    width=600,title=f'{state.upper()} TRANSACTION COUNT',hole=0.5)\n",
    "    fig_pie_2.show()\n"
   ]
  },
  {
   "cell_type": "code",
   "execution_count": null,
   "metadata": {},
   "outputs": [],
   "source": []
  },
  {
   "cell_type": "code",
   "execution_count": null,
   "metadata": {},
   "outputs": [],
   "source": [
    "tac_Y=Transaction_amount_count_Y(Aggre_transaction, 2023)"
   ]
  },
  {
   "cell_type": "code",
   "execution_count": null,
   "metadata": {},
   "outputs": [],
   "source": [
    "map_tran_Districts(map_tran_tac_Y, 'West Bengal')"
   ]
  },
  {
   "cell_type": "code",
   "execution_count": null,
   "metadata": {},
   "outputs": [],
   "source": [
    "Aggre_tran_tac_Y= Transaction_amount_count_Y(Aggre_transaction, 2018)"
   ]
  },
  {
   "cell_type": "code",
   "execution_count": null,
   "metadata": {},
   "outputs": [],
   "source": [
    "def Aggre_Tran_Transaction_type(df, state):\n",
    "    \n",
    "    tacy =df[df['States'] == state]\n",
    "    tacy.reset_index(drop=True,inplace=True)\n",
    "\n",
    "    tacyg=tacy.groupby('Transaction_type')[['Transaction_count','Transaction_amount']].sum()\n",
    "    tacyg.reset_index(inplace=True)\n",
    "\n",
    "\n",
    "    fig_pie_1=px.pie(data_frame=tacyg, names='Transaction_type', values='Transaction_amount',\n",
    "                    width=600,title=f'{state.upper()} TRANSACTION AMOUNT',hole=0.5)\n",
    "    fig_pie_1.show()\n",
    "\n",
    "    fig_pie_2=px.pie(data_frame=tacyg, names='Transaction_type', values='Transaction_count',\n",
    "                    width=600,title=f'{state.upper()} TRANSACTION COUNT',hole=0.5)\n",
    "    fig_pie_2.show()"
   ]
  },
  {
   "cell_type": "code",
   "execution_count": 231,
   "metadata": {},
   "outputs": [
    {
     "data": {
      "text/html": [
       "<div>\n",
       "<style scoped>\n",
       "    .dataframe tbody tr th:only-of-type {\n",
       "        vertical-align: middle;\n",
       "    }\n",
       "\n",
       "    .dataframe tbody tr th {\n",
       "        vertical-align: top;\n",
       "    }\n",
       "\n",
       "    .dataframe thead th {\n",
       "        text-align: right;\n",
       "    }\n",
       "</style>\n",
       "<table border=\"1\" class=\"dataframe\">\n",
       "  <thead>\n",
       "    <tr style=\"text-align: right;\">\n",
       "      <th></th>\n",
       "      <th>States</th>\n",
       "      <th>Years</th>\n",
       "      <th>Quarter</th>\n",
       "      <th>Districts</th>\n",
       "      <th>Transaction_count</th>\n",
       "      <th>Transaction_amount</th>\n",
       "    </tr>\n",
       "  </thead>\n",
       "  <tbody>\n",
       "    <tr>\n",
       "      <th>0</th>\n",
       "      <td>Andaman &amp; Nicobar</td>\n",
       "      <td>2018</td>\n",
       "      <td>1</td>\n",
       "      <td>north and middle andaman district</td>\n",
       "      <td>442</td>\n",
       "      <td>9.316630e+05</td>\n",
       "    </tr>\n",
       "    <tr>\n",
       "      <th>1</th>\n",
       "      <td>Andaman &amp; Nicobar</td>\n",
       "      <td>2018</td>\n",
       "      <td>1</td>\n",
       "      <td>south andaman district</td>\n",
       "      <td>5688</td>\n",
       "      <td>1.256020e+07</td>\n",
       "    </tr>\n",
       "    <tr>\n",
       "      <th>2</th>\n",
       "      <td>Andaman &amp; Nicobar</td>\n",
       "      <td>2018</td>\n",
       "      <td>1</td>\n",
       "      <td>nicobars district</td>\n",
       "      <td>528</td>\n",
       "      <td>1.139850e+06</td>\n",
       "    </tr>\n",
       "    <tr>\n",
       "      <th>3</th>\n",
       "      <td>Andaman &amp; Nicobar</td>\n",
       "      <td>2018</td>\n",
       "      <td>2</td>\n",
       "      <td>north and middle andaman district</td>\n",
       "      <td>825</td>\n",
       "      <td>1.317860e+06</td>\n",
       "    </tr>\n",
       "    <tr>\n",
       "      <th>4</th>\n",
       "      <td>Andaman &amp; Nicobar</td>\n",
       "      <td>2018</td>\n",
       "      <td>2</td>\n",
       "      <td>south andaman district</td>\n",
       "      <td>9395</td>\n",
       "      <td>2.394820e+07</td>\n",
       "    </tr>\n",
       "    <tr>\n",
       "      <th>...</th>\n",
       "      <td>...</td>\n",
       "      <td>...</td>\n",
       "      <td>...</td>\n",
       "      <td>...</td>\n",
       "      <td>...</td>\n",
       "      <td>...</td>\n",
       "    </tr>\n",
       "    <tr>\n",
       "      <th>17559</th>\n",
       "      <td>West Bengal</td>\n",
       "      <td>2023</td>\n",
       "      <td>4</td>\n",
       "      <td>nadia district</td>\n",
       "      <td>36242432</td>\n",
       "      <td>6.879570e+10</td>\n",
       "    </tr>\n",
       "    <tr>\n",
       "      <th>17560</th>\n",
       "      <td>West Bengal</td>\n",
       "      <td>2023</td>\n",
       "      <td>4</td>\n",
       "      <td>birbhum district</td>\n",
       "      <td>20708496</td>\n",
       "      <td>3.690500e+10</td>\n",
       "    </tr>\n",
       "    <tr>\n",
       "      <th>17561</th>\n",
       "      <td>West Bengal</td>\n",
       "      <td>2023</td>\n",
       "      <td>4</td>\n",
       "      <td>purba medinipur district</td>\n",
       "      <td>40572042</td>\n",
       "      <td>7.981990e+10</td>\n",
       "    </tr>\n",
       "    <tr>\n",
       "      <th>17562</th>\n",
       "      <td>West Bengal</td>\n",
       "      <td>2023</td>\n",
       "      <td>4</td>\n",
       "      <td>maldah district</td>\n",
       "      <td>34654950</td>\n",
       "      <td>6.416730e+10</td>\n",
       "    </tr>\n",
       "    <tr>\n",
       "      <th>17563</th>\n",
       "      <td>West Bengal</td>\n",
       "      <td>2023</td>\n",
       "      <td>4</td>\n",
       "      <td>darjiling district</td>\n",
       "      <td>16807885</td>\n",
       "      <td>2.793990e+10</td>\n",
       "    </tr>\n",
       "  </tbody>\n",
       "</table>\n",
       "<p>17564 rows × 6 columns</p>\n",
       "</div>"
      ],
      "text/plain": [
       "                  States  Years  Quarter                          Districts  \\\n",
       "0      Andaman & Nicobar   2018        1  north and middle andaman district   \n",
       "1      Andaman & Nicobar   2018        1             south andaman district   \n",
       "2      Andaman & Nicobar   2018        1                  nicobars district   \n",
       "3      Andaman & Nicobar   2018        2  north and middle andaman district   \n",
       "4      Andaman & Nicobar   2018        2             south andaman district   \n",
       "...                  ...    ...      ...                                ...   \n",
       "17559        West Bengal   2023        4                     nadia district   \n",
       "17560        West Bengal   2023        4                   birbhum district   \n",
       "17561        West Bengal   2023        4           purba medinipur district   \n",
       "17562        West Bengal   2023        4                    maldah district   \n",
       "17563        West Bengal   2023        4                 darjiling district   \n",
       "\n",
       "       Transaction_count  Transaction_amount  \n",
       "0                    442        9.316630e+05  \n",
       "1                   5688        1.256020e+07  \n",
       "2                    528        1.139850e+06  \n",
       "3                    825        1.317860e+06  \n",
       "4                   9395        2.394820e+07  \n",
       "...                  ...                 ...  \n",
       "17559           36242432        6.879570e+10  \n",
       "17560           20708496        3.690500e+10  \n",
       "17561           40572042        7.981990e+10  \n",
       "17562           34654950        6.416730e+10  \n",
       "17563           16807885        2.793990e+10  \n",
       "\n",
       "[17564 rows x 6 columns]"
      ]
     },
     "execution_count": 231,
     "metadata": {},
     "output_type": "execute_result"
    }
   ],
   "source": [
    "map_transaction"
   ]
  },
  {
   "cell_type": "code",
   "execution_count": 256,
   "metadata": {},
   "outputs": [],
   "source": [
    "def map_tran_plot_1(df,state):\n",
    "    miys= df[df[\"States\"] == state]\n",
    "    miysg= miys.groupby(\"Districts\")[[\"Transaction_count\",\"Transaction_amount\"]].sum()\n",
    "    miysg.reset_index(inplace= True)\n",
    "\n",
    "    col1,col2= st.columns(2)\n",
    "    with col1:\n",
    "        fig_map_bar_1= px.bar(miysg, x= \"Districts\", y= \"Transaction_amount\",\n",
    "                              width=600, height=500, title= f\"{state.upper()} DISTRICTS TRANSACTION AMOUNT\",\n",
    "                              color_discrete_sequence= px.colors.sequential.Mint_r)\n",
    "        st.plotly_chart(fig_map_bar_1)\n",
    "\n",
    "    with col2:\n",
    "        fig_map_bar_1= px.bar(miysg, x= \"Districts\", y= \"Transaction_count\",\n",
    "                              width=600, height= 500, title= f\"{state.upper()} DISTRICTS TRANSACTION COUNT\",\n",
    "                              color_discrete_sequence= px.colors.sequential.Mint)\n",
    "        \n",
    "        st.plotly_chart(fig_map_bar_1)\n",
    "\n",
    "def map_tran_plot_2(df,state):\n",
    "    miys= df[df[\"States\"] == state]\n",
    "    miysg= miys.groupby(\"Districts\")[[\"Transaction_count\",\"Transaction_amount\"]].sum()\n",
    "    miysg.reset_index(inplace= True)\n",
    "\n",
    "    col1,col2= st.columns(2)\n",
    "    with col1:\n",
    "        fig_map_pie_1= px.pie(miysg, names= \"Districts\", values= \"Transaction_amount\",\n",
    "                              width=600, height=500, title= f\"{state.upper()} DISTRICTS TRANSACTION AMOUNT\",\n",
    "                              hole=0.5,color_discrete_sequence= px.colors.sequential.Mint_r)\n",
    "        st.plotly_chart(fig_map_pie_1)\n",
    "\n",
    "    with col2:\n",
    "        fig_map_pie_1= px.pie(miysg, names= \"Districts\", values= \"Transaction_count\",\n",
    "                              width=600, height= 500, title= f\"{state.upper()} DISTRICTS TRANSACTION COUNT\",\n",
    "                              hole=0.5,  color_discrete_sequence= px.colors.sequential.Oranges_r)\n",
    "        \n",
    "        st.plotly_chart(fig_map_pie_1)\n"
   ]
  }
 ],
 "metadata": {
  "kernelspec": {
   "display_name": ".venv",
   "language": "python",
   "name": "python3"
  },
  "language_info": {
   "codemirror_mode": {
    "name": "ipython",
    "version": 3
   },
   "file_extension": ".py",
   "mimetype": "text/x-python",
   "name": "python",
   "nbconvert_exporter": "python",
   "pygments_lexer": "ipython3",
   "version": "3.12.2"
  }
 },
 "nbformat": 4,
 "nbformat_minor": 2
}
